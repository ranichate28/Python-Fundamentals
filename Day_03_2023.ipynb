{
 "cells": [
  {
   "cell_type": "markdown",
   "id": "0332fe3d",
   "metadata": {},
   "source": [
    " ## Loop:While"
   ]
  },
  {
   "cell_type": "code",
   "execution_count": 6,
   "id": "3fbd2ae2",
   "metadata": {},
   "outputs": [
    {
     "name": "stdout",
     "output_type": "stream",
     "text": [
      " * \n",
      " *  * \n",
      " *  *  * \n",
      " *  *  *  * \n",
      " *  *  *  *  * \n"
     ]
    }
   ],
   "source": [
    "n=5\n",
    "i=1\n",
    "\n",
    "while i <=n:\n",
    "    print(\" * \" * i)\n",
    "    i = i + 1\n",
    "    \n",
    "\n",
    "n=4\n",
    "i=n\n",
    "\n",
    "while i <=1:\n",
    "    print(\" * \" * i)\n",
    "    i = i - 1"
   ]
  },
  {
   "cell_type": "markdown",
   "id": "b5195a30",
   "metadata": {},
   "source": [
    "## Task"
   ]
  },
  {
   "cell_type": "code",
   "execution_count": 12,
   "id": "88b8532e",
   "metadata": {},
   "outputs": [
    {
     "name": "stdout",
     "output_type": "stream",
     "text": [
      "10\n",
      "9\n",
      "8\n",
      "7\n",
      "6\n",
      "5\n",
      "4\n",
      "3\n",
      "2\n",
      "1\n",
      "0\n"
     ]
    }
   ],
   "source": [
    "# num = int(input(\"Enter a number: \") \n",
    "\n",
    "num = 10\n",
    "while num >=0:\n",
    "    print(num)\n",
    "    \n",
    "    num-= 1"
   ]
  },
  {
   "cell_type": "code",
   "execution_count": 18,
   "id": "91d9770d",
   "metadata": {},
   "outputs": [],
   "source": [
    "def test1():\n",
    "    sum =1 + 5\n",
    "    \n",
    "    return sum"
   ]
  },
  {
   "cell_type": "code",
   "execution_count": 19,
   "id": "b2772486",
   "metadata": {},
   "outputs": [
    {
     "data": {
      "text/plain": [
       "6"
      ]
     },
     "execution_count": 19,
     "metadata": {},
     "output_type": "execute_result"
    }
   ],
   "source": [
    "test1()"
   ]
  },
  {
   "cell_type": "code",
   "execution_count": 20,
   "id": "218a66e0",
   "metadata": {},
   "outputs": [],
   "source": [
    "result = test1()"
   ]
  },
  {
   "cell_type": "code",
   "execution_count": 21,
   "id": "09260c6d",
   "metadata": {},
   "outputs": [
    {
     "name": "stdout",
     "output_type": "stream",
     "text": [
      "6\n"
     ]
    }
   ],
   "source": [
    "print(result)"
   ]
  },
  {
   "cell_type": "code",
   "execution_count": 22,
   "id": "ceebd2ae",
   "metadata": {},
   "outputs": [],
   "source": [
    "def greet():\n",
    "    print(\"Hello!\")"
   ]
  },
  {
   "cell_type": "code",
   "execution_count": 23,
   "id": "7df285f0",
   "metadata": {},
   "outputs": [
    {
     "name": "stdout",
     "output_type": "stream",
     "text": [
      "Hello!\n"
     ]
    }
   ],
   "source": [
    "greet()"
   ]
  },
  {
   "cell_type": "code",
   "execution_count": 24,
   "id": "0f7cec8d",
   "metadata": {},
   "outputs": [],
   "source": [
    "def test3():\n",
    "    li = [1,2,3]\n",
    "    return li"
   ]
  },
  {
   "cell_type": "code",
   "execution_count": 25,
   "id": "47abf700",
   "metadata": {},
   "outputs": [],
   "source": [
    "result = test3()"
   ]
  },
  {
   "cell_type": "code",
   "execution_count": 26,
   "id": "b3b27430",
   "metadata": {},
   "outputs": [
    {
     "name": "stdout",
     "output_type": "stream",
     "text": [
      "[1, 2, 3]\n"
     ]
    }
   ],
   "source": [
    "print(result)"
   ]
  },
  {
   "cell_type": "code",
   "execution_count": 27,
   "id": "cbda3d99",
   "metadata": {},
   "outputs": [],
   "source": [
    "def test4():\n",
    "    name = \"RANI\"\n",
    "    \n",
    "    return name"
   ]
  },
  {
   "cell_type": "code",
   "execution_count": 28,
   "id": "3f95f942",
   "metadata": {},
   "outputs": [],
   "source": [
    "name = test4()"
   ]
  },
  {
   "cell_type": "code",
   "execution_count": 29,
   "id": "6ef72a52",
   "metadata": {},
   "outputs": [
    {
     "data": {
      "text/plain": [
       "'RANI'"
      ]
     },
     "execution_count": 29,
     "metadata": {},
     "output_type": "execute_result"
    }
   ],
   "source": [
    "name"
   ]
  },
  {
   "cell_type": "code",
   "execution_count": 31,
   "id": "3517fae6",
   "metadata": {},
   "outputs": [
    {
     "data": {
      "text/plain": [
       "'RANI CHATE '"
      ]
     },
     "execution_count": 31,
     "metadata": {},
     "output_type": "execute_result"
    }
   ],
   "source": [
    "test4() + \" CHATE \""
   ]
  },
  {
   "cell_type": "code",
   "execution_count": 32,
   "id": "a9431c1e",
   "metadata": {},
   "outputs": [],
   "source": [
    "def test5():\n",
    "    \n",
    "    return 36,58,14"
   ]
  },
  {
   "cell_type": "code",
   "execution_count": 33,
   "id": "6a9953a6",
   "metadata": {},
   "outputs": [
    {
     "data": {
      "text/plain": [
       "(36, 58, 14)"
      ]
     },
     "execution_count": 33,
     "metadata": {},
     "output_type": "execute_result"
    }
   ],
   "source": [
    "test5()"
   ]
  },
  {
   "cell_type": "code",
   "execution_count": 34,
   "id": "9836532c",
   "metadata": {},
   "outputs": [],
   "source": [
    "a, b, c = test5()"
   ]
  },
  {
   "cell_type": "code",
   "execution_count": 35,
   "id": "abd60785",
   "metadata": {},
   "outputs": [
    {
     "data": {
      "text/plain": [
       "36"
      ]
     },
     "execution_count": 35,
     "metadata": {},
     "output_type": "execute_result"
    }
   ],
   "source": [
    "a"
   ]
  },
  {
   "cell_type": "code",
   "execution_count": 36,
   "id": "832991ee",
   "metadata": {},
   "outputs": [
    {
     "data": {
      "text/plain": [
       "58"
      ]
     },
     "execution_count": 36,
     "metadata": {},
     "output_type": "execute_result"
    }
   ],
   "source": [
    "b"
   ]
  },
  {
   "cell_type": "code",
   "execution_count": 37,
   "id": "95dc1e2b",
   "metadata": {},
   "outputs": [
    {
     "data": {
      "text/plain": [
       "14"
      ]
     },
     "execution_count": 37,
     "metadata": {},
     "output_type": "execute_result"
    }
   ],
   "source": [
    "c"
   ]
  },
  {
   "cell_type": "code",
   "execution_count": 38,
   "id": "ff5d7920",
   "metadata": {},
   "outputs": [],
   "source": [
    "a,b,c = 1,2,3"
   ]
  },
  {
   "cell_type": "code",
   "execution_count": 39,
   "id": "93875431",
   "metadata": {},
   "outputs": [
    {
     "name": "stdout",
     "output_type": "stream",
     "text": [
      "1\n",
      "2\n",
      "3\n"
     ]
    }
   ],
   "source": [
    "print(a)\n",
    "print(b)\n",
    "print(c)"
   ]
  },
  {
   "cell_type": "markdown",
   "id": "a49aad27",
   "metadata": {},
   "source": [
    "## Example-1"
   ]
  },
  {
   "cell_type": "code",
   "execution_count": 40,
   "id": "8122f5a2",
   "metadata": {},
   "outputs": [],
   "source": [
    "def test6():\n",
    "    \n",
    "    result = 50/20*6+8-5\n",
    "    \n",
    "    return result"
   ]
  },
  {
   "cell_type": "code",
   "execution_count": 41,
   "id": "4c2828b4",
   "metadata": {},
   "outputs": [
    {
     "data": {
      "text/plain": [
       "18.0"
      ]
     },
     "execution_count": 41,
     "metadata": {},
     "output_type": "execute_result"
    }
   ],
   "source": [
    "test6()"
   ]
  },
  {
   "cell_type": "code",
   "execution_count": 54,
   "id": "bfb62456",
   "metadata": {},
   "outputs": [],
   "source": [
    "def test7():\n",
    "    \n",
    "    l = [1,2,3,4,5,6,7,8,9,10]\n",
    "    \n",
    "    sum = 0\n",
    "    \n",
    "    for i in l:\n",
    "        \n",
    "        sum = sum + i\n",
    "        \n",
    "    return sum"
   ]
  },
  {
   "cell_type": "code",
   "execution_count": 55,
   "id": "bc5acfbe",
   "metadata": {},
   "outputs": [
    {
     "data": {
      "text/plain": [
       "55"
      ]
     },
     "execution_count": 55,
     "metadata": {},
     "output_type": "execute_result"
    }
   ],
   "source": [
    "test7()"
   ]
  },
  {
   "cell_type": "markdown",
   "id": "dcd2a352",
   "metadata": {},
   "source": [
    "## Example-2"
   ]
  },
  {
   "cell_type": "code",
   "execution_count": 60,
   "id": "d7afd2e8",
   "metadata": {},
   "outputs": [],
   "source": [
    "def test8():\n",
    "    \n",
    "    l = [1,2,3,4,5,\"INDIA\",\"PUNE\",6,7,8,\"RANI\",10]\n",
    "    \n",
    "    sum = 0\n",
    "    \n",
    "    for i in l:\n",
    "        \n",
    "        if type(i) == int:\n",
    "            \n",
    "            sum += i\n",
    "        \n",
    "    return sum"
   ]
  },
  {
   "cell_type": "code",
   "execution_count": 61,
   "id": "aa8653b3",
   "metadata": {},
   "outputs": [
    {
     "data": {
      "text/plain": [
       "46"
      ]
     },
     "execution_count": 61,
     "metadata": {},
     "output_type": "execute_result"
    }
   ],
   "source": [
    "test8()"
   ]
  },
  {
   "cell_type": "code",
   "execution_count": 67,
   "id": "767fc794",
   "metadata": {},
   "outputs": [],
   "source": [
    "def test9(l):\n",
    "    \n",
    "    sum = 0\n",
    "    \n",
    "    for i in l:\n",
    "        \n",
    "        if type(i) == int:\n",
    "            \n",
    "            sum += i\n",
    "            \n",
    "    return sum"
   ]
  },
  {
   "cell_type": "code",
   "execution_count": 68,
   "id": "b34569b1",
   "metadata": {},
   "outputs": [],
   "source": [
    "l = [1,2,3,4,5,'a','b','c',6,7,8,'d','e',9,'f',10]"
   ]
  },
  {
   "cell_type": "code",
   "execution_count": 69,
   "id": "2d6e75fa",
   "metadata": {},
   "outputs": [
    {
     "data": {
      "text/plain": [
       "55"
      ]
     },
     "execution_count": 69,
     "metadata": {},
     "output_type": "execute_result"
    }
   ],
   "source": [
    "test9(l)"
   ]
  },
  {
   "cell_type": "code",
   "execution_count": 73,
   "id": "925148d6",
   "metadata": {},
   "outputs": [],
   "source": [
    "def test10(mylist):\n",
    "    \n",
    "    sum = 0\n",
    "    \n",
    "    for i in mylist:\n",
    "        \n",
    "        if type(i) == int:\n",
    "            \n",
    "            sum += i\n",
    "            \n",
    "    return sum"
   ]
  },
  {
   "cell_type": "code",
   "execution_count": 74,
   "id": "a6fcb96a",
   "metadata": {},
   "outputs": [],
   "source": [
    "l = [1,2,3,4,'a','b','c',5]"
   ]
  },
  {
   "cell_type": "code",
   "execution_count": 75,
   "id": "5662ab05",
   "metadata": {},
   "outputs": [
    {
     "data": {
      "text/plain": [
       "15"
      ]
     },
     "execution_count": 75,
     "metadata": {},
     "output_type": "execute_result"
    }
   ],
   "source": [
    "test10(mylist=l)"
   ]
  },
  {
   "cell_type": "code",
   "execution_count": 76,
   "id": "b0722114",
   "metadata": {},
   "outputs": [],
   "source": [
    "def two_no_sum(a, b):\n",
    "    \n",
    "    sum = a + b\n",
    "    \n",
    "    return sum"
   ]
  },
  {
   "cell_type": "code",
   "execution_count": 77,
   "id": "ce39ad8f",
   "metadata": {},
   "outputs": [],
   "source": [
    "a = 2\n",
    "b = 3\n",
    "\n",
    "result = two_no_sum(a, b)"
   ]
  },
  {
   "cell_type": "code",
   "execution_count": 78,
   "id": "e57de658",
   "metadata": {},
   "outputs": [
    {
     "data": {
      "text/plain": [
       "5"
      ]
     },
     "execution_count": 78,
     "metadata": {},
     "output_type": "execute_result"
    }
   ],
   "source": [
    "result"
   ]
  },
  {
   "cell_type": "code",
   "execution_count": 81,
   "id": "30946b57",
   "metadata": {},
   "outputs": [
    {
     "data": {
      "text/plain": [
       "15"
      ]
     },
     "execution_count": 81,
     "metadata": {},
     "output_type": "execute_result"
    }
   ],
   "source": [
    "p = 5\n",
    "q = 10\n",
    "\n",
    "two_no_sum(p, q)"
   ]
  },
  {
   "cell_type": "code",
   "execution_count": 84,
   "id": "d2327a0a",
   "metadata": {},
   "outputs": [
    {
     "data": {
      "text/plain": [
       "15"
      ]
     },
     "execution_count": 84,
     "metadata": {},
     "output_type": "execute_result"
    }
   ],
   "source": [
    "two_no_sum(a=p , b=q)"
   ]
  },
  {
   "cell_type": "markdown",
   "id": "33bb0b2a",
   "metadata": {},
   "source": [
    "## Doc Strim Concept"
   ]
  },
  {
   "cell_type": "code",
   "execution_count": 93,
   "id": "de8fb4e2",
   "metadata": {},
   "outputs": [],
   "source": [
    "def two_no_sum(a, b):\n",
    "    \"\"\"\n",
    "    returns the sum of two numbers\n",
    "    :params: 'a' is first number\n",
    "    :params: 'b' is second number\n",
    "    :return: additon of two numbers\n",
    "     \n",
    "    \"\"\"\n",
    "    \n",
    "    sum = a + b\n",
    "    \n",
    "    return sum"
   ]
  },
  {
   "cell_type": "code",
   "execution_count": 94,
   "id": "477ed9d7",
   "metadata": {},
   "outputs": [
    {
     "data": {
      "text/plain": [
       "3"
      ]
     },
     "execution_count": 94,
     "metadata": {},
     "output_type": "execute_result"
    }
   ],
   "source": [
    "two_no_sum(1,2)"
   ]
  },
  {
   "cell_type": "code",
   "execution_count": 95,
   "id": "ae76bced",
   "metadata": {},
   "outputs": [
    {
     "data": {
      "text/plain": [
       "[1, 2, 3, 4, 'a', 'b', 'c', 5]"
      ]
     },
     "execution_count": 95,
     "metadata": {},
     "output_type": "execute_result"
    }
   ],
   "source": [
    "l"
   ]
  },
  {
   "cell_type": "code",
   "execution_count": 96,
   "id": "31ff26a6",
   "metadata": {},
   "outputs": [
    {
     "data": {
      "text/plain": [
       "['a', 'b', 'c']"
      ]
     },
     "execution_count": 96,
     "metadata": {},
     "output_type": "execute_result"
    }
   ],
   "source": [
    "['a','b','c']"
   ]
  },
  {
   "cell_type": "code",
   "execution_count": 97,
   "id": "152cf06e",
   "metadata": {},
   "outputs": [],
   "source": [
    "def test10(mylist):\n",
    "    \n",
    "    li = []\n",
    "    \n",
    "    for i in mylist:\n",
    "        \n",
    "        if type(i) == str:\n",
    "            \n",
    "            li.append(i)\n",
    "            \n",
    "    return li"
   ]
  },
  {
   "cell_type": "code",
   "execution_count": 98,
   "id": "d11c28e6",
   "metadata": {},
   "outputs": [
    {
     "data": {
      "text/plain": [
       "[1, 2, 3, 4, 'a', 'b', 'c', 5]"
      ]
     },
     "execution_count": 98,
     "metadata": {},
     "output_type": "execute_result"
    }
   ],
   "source": [
    "l"
   ]
  },
  {
   "cell_type": "code",
   "execution_count": 100,
   "id": "7bb86b50",
   "metadata": {},
   "outputs": [
    {
     "data": {
      "text/plain": [
       "['a', 'b', 'c']"
      ]
     },
     "execution_count": 100,
     "metadata": {},
     "output_type": "execute_result"
    }
   ],
   "source": [
    "test10(l)"
   ]
  },
  {
   "cell_type": "code",
   "execution_count": null,
   "id": "bbb6556c",
   "metadata": {},
   "outputs": [],
   "source": []
  },
  {
   "cell_type": "code",
   "execution_count": 114,
   "id": "556be6b8",
   "metadata": {},
   "outputs": [],
   "source": [
    "def test11(mylist: list()):\n",
    "    \"\"\"\n",
    "    This function seperate the integer and str elements from the given list\n",
    "    :params: list()\n",
    "    :return: string list: [], integer list: list:()\n",
    "    \n",
    "    \"\"\"\n",
    "    \n",
    "    li_int = []\n",
    "    li_str = []\n",
    "    \n",
    "    for i in mylist:\n",
    "        \n",
    "        if type(i) == str:\n",
    "            li_str.append(i)\n",
    "            \n",
    "        if type(i) == int:\n",
    "            li_int.append(i)\n",
    "            \n",
    "    return li_str, li_int"
   ]
  },
  {
   "cell_type": "code",
   "execution_count": 124,
   "id": "a820c482",
   "metadata": {},
   "outputs": [],
   "source": [
    "lst = [4, 5, 6, 7, 8, 9]"
   ]
  },
  {
   "cell_type": "code",
   "execution_count": 125,
   "id": "f8a4f8b7",
   "metadata": {},
   "outputs": [
    {
     "data": {
      "text/plain": [
       "[4, 5, 6, 7, 8, 9]"
      ]
     },
     "execution_count": 125,
     "metadata": {},
     "output_type": "execute_result"
    }
   ],
   "source": [
    "lst"
   ]
  },
  {
   "cell_type": "code",
   "execution_count": 129,
   "id": "f56f5ab1",
   "metadata": {},
   "outputs": [
    {
     "ename": "IndentationError",
     "evalue": "unexpected indent (Temp/ipykernel_21044/122993641.py, line 5)",
     "output_type": "error",
     "traceback": [
      "\u001b[1;36m  File \u001b[1;32m\"C:\\Users\\RANICH~1\\AppData\\Local\\Temp/ipykernel_21044/122993641.py\"\u001b[1;36m, line \u001b[1;32m5\u001b[0m\n\u001b[1;33m    print(\"Using reverse() \", lst)\u001b[0m\n\u001b[1;37m    ^\u001b[0m\n\u001b[1;31mIndentationError\u001b[0m\u001b[1;31m:\u001b[0m unexpected indent\n"
     ]
    }
   ],
   "source": [
    "lst = [4, 5, 6, 7, 8, 9]\n",
    "\n",
    "lst.reverse()\n",
    "\n",
    "      print(\"Using reverse() \", lst)\n",
    "\n",
    "      print(\"Using reversed() \", lst(reversed(lst)))\n",
    "        \n",
    "        return lst"
   ]
  },
  {
   "cell_type": "code",
   "execution_count": null,
   "id": "5a81401e",
   "metadata": {},
   "outputs": [],
   "source": []
  }
 ],
 "metadata": {
  "kernelspec": {
   "display_name": "Python 3 (ipykernel)",
   "language": "python",
   "name": "python3"
  },
  "language_info": {
   "codemirror_mode": {
    "name": "ipython",
    "version": 3
   },
   "file_extension": ".py",
   "mimetype": "text/x-python",
   "name": "python",
   "nbconvert_exporter": "python",
   "pygments_lexer": "ipython3",
   "version": "3.9.7"
  }
 },
 "nbformat": 4,
 "nbformat_minor": 5
}
